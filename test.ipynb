{
 "cells": [
  {
   "cell_type": "code",
   "execution_count": 26,
   "metadata": {},
   "outputs": [],
   "source": [
    "from langchain import PromptTemplate\n",
    "from langchain.chains import RetrievalQAWithSourcesChain, RetrievalQA\n",
    "from langchain.embeddings import HuggingFaceEmbeddings\n",
    "from langchain_pinecone import PineconeVectorStore\n",
    "import pinecone\n",
    "from langchain.document_loaders import PyPDFLoader, DirectoryLoader\n",
    "from langchain.text_splitter import RecursiveCharacterTextSplitter\n",
    "from langchain.prompts import PromptTemplate\n",
    "from langchain.llms import CTransformers\n",
    "import os"
   ]
  },
  {
   "cell_type": "code",
   "execution_count": 2,
   "metadata": {},
   "outputs": [],
   "source": [
    "PINECONE_API_KEY = \"7b953ee9-5bda-4822-99b6-b8b7632aa542\""
   ]
  },
  {
   "cell_type": "code",
   "execution_count": 3,
   "metadata": {},
   "outputs": [],
   "source": [
    "def data_loader(data):\n",
    "    \"\"\"\n",
    "    Loading the data from the pdf file\n",
    "    Directory required: from langchain.document_loaders import PyPDFLoader, DirectoryLoader\n",
    "    \"\"\"\n",
    "    loader = DirectoryLoader(data,\n",
    "                             glob='*.pdf',\n",
    "                             loader_cls= PyPDFLoader)\n",
    "    doc = loader.load()\n",
    "    return doc"
   ]
  },
  {
   "cell_type": "code",
   "execution_count": 4,
   "metadata": {},
   "outputs": [],
   "source": [
    "extracted_text = data_loader(\"Data/\")"
   ]
  },
  {
   "cell_type": "code",
   "execution_count": 5,
   "metadata": {},
   "outputs": [
    {
     "data": {
      "text/plain": [
       "\"Laboratory Name :ENVIROCARE LABS PVT. LTD., A-7, A-8 ENVIRO HOUSE, MIDC, WAGLE ESTATE MAIN ROAD,\\nTHANE, MAHARASHTRA, INDIA\\nAccreditation Standard ISO/IEC 17025:2017\\nCertiﬁcate Number TC-8284 Page No 1 of 1279\\nValidity 23/12/2023 to 22/12/2025 Last Amended on 14/02/2024\\nThis is annexure to 'Certiﬁcate of Accreditation' and does not require any signature.S.No Discipline / Group Materials or Products testedComponent, parameter or\\ncharacteristic tested /\\nSpeciﬁc Test Performed /\\nTests or type of tests\\nperformedTest Method Speciﬁcation\\nagainst which tests are\\nperformed and / or the\\ntechniques / equipment\\nused\\nPermanent Facility\\n1BIOLOGICAL- ANIMAL\\nFOOD & FEEDPet FoodsAerobic microbial count at\\n/Total Viable count /Total Plate\\ncount /standard Plate Count\\n/Total bacterial count/Aerobic\\nbacterial count/Aerobic Plate\\nCountBAM Chap. 3,8th edition\\n2BIOLOGICAL- ANIMAL\\nFOOD & FEEDPet FoodsAerobic microbial count at\\n/Total Viable count /Total Plate\\ncount /standard Plate Count\\n/Total bacterial count/Aerobic\\nbacterial count/Aerobic Plate\\nCountIS 5402-1\\n3BIOLOGICAL- ANIMAL\\nFOOD & FEEDPet FoodsAerobic microbial count at\\n/Total Viable count /Total Plate\\ncount /standard Plate Count\\n/Total bacterial count/Aerobic\\nbacterial count/Aerobic Plate\\nCountISO 4833 (Part 1)\\n4BIOLOGICAL- ANIMAL\\nFOOD & FEEDPet FoodsAerobic microbial count at\\n/Total Viable count /Total Plate\\ncount /standard Plate Count\\n/Total bacterial count/Aerobic\\nbacterial count/Aerobic Plate\\nCount/Mesophillic aerobic Plate\\ncountAPHA Chapter 8,5thEdition\\n5BIOLOGICAL- ANIMAL\\nFOOD & FEEDPet FoodsAerobic microbial count at\\n/Total Viable count /Total Plate\\ncount /standard Plate Count\\n/Total bacterial count/Aerobic\\nbacterial count/Aerobic Plate\\nCount/Mesophillic aerobic Plate\\ncountPetriﬁlm ,AOAC 990.12\\n6BIOLOGICAL- ANIMAL\\nFOOD & FEEDPet FoodsBacillus cereus/Aerobic Spore\\ncountBAM Chap. 14, 8th edition\\n7BIOLOGICAL- ANIMAL\\nFOOD & FEEDPet FoodsBacillus cereus/Aerobic Spore\\ncountIS 5887(Part 6)\\n8BIOLOGICAL- ANIMAL\\nFOOD & FEEDPet FoodsBacillus cereus/Aerobic Spore\\ncountISO 7932\\n9BIOLOGICAL- ANIMAL\\nFOOD & FEEDPet FoodsClostridia spp. /Anaerobic\\nspore countBAM Chap. 17, 8th edition\\n10BIOLOGICAL- ANIMAL\\nFOOD & FEEDPet FoodsClostridium spp. /Anaerobic\\nspore countBAM Chap. 16, 8th edition\\n\""
      ]
     },
     "execution_count": 5,
     "metadata": {},
     "output_type": "execute_result"
    }
   ],
   "source": [
    "extracted_text[0].page_content"
   ]
  },
  {
   "cell_type": "code",
   "execution_count": 6,
   "metadata": {},
   "outputs": [],
   "source": [
    "def text_split(extracted_data, size = 500, overlap = 50):\n",
    "    \"\"\"\n",
    "    Splitting the data into text chunks\n",
    "    default Chunk Size = 500, chunk_overlap = 50\n",
    "    Directory required: from langchain.text_splitter import RecursiveCharacterTextSplitter \n",
    "    Returns: text_chunks\n",
    "    \"\"\"\n",
    "    text_spilter = RecursiveCharacterTextSplitter(chunk_size = size, chunk_overlap = overlap)\n",
    "    text_chunks = text_spilter.split_documents(extracted_data)\n",
    "    return text_chunks"
   ]
  },
  {
   "cell_type": "code",
   "execution_count": 7,
   "metadata": {},
   "outputs": [],
   "source": [
    "text_chunk = text_split(extracted_text)"
   ]
  },
  {
   "cell_type": "code",
   "execution_count": 8,
   "metadata": {},
   "outputs": [
    {
     "name": "stdout",
     "output_type": "stream",
     "text": [
      "len of the chunk size:  8537\n"
     ]
    }
   ],
   "source": [
    "print(f\"len of the chunk size: \", len(text_chunk))"
   ]
  },
  {
   "cell_type": "code",
   "execution_count": 9,
   "metadata": {},
   "outputs": [],
   "source": [
    "def download_embedding():\n",
    "    embedding = HuggingFaceEmbeddings(model_name=\"sentence-transformers/all-MiniLM-L6-v2\")\n",
    "    return embedding"
   ]
  },
  {
   "cell_type": "code",
   "execution_count": 10,
   "metadata": {},
   "outputs": [
    {
     "name": "stderr",
     "output_type": "stream",
     "text": [
      "c:\\Users\\sayan\\anaconda3\\envs\\envirocare\\lib\\site-packages\\langchain_core\\_api\\deprecation.py:119: LangChainDeprecationWarning: The class `HuggingFaceEmbeddings` was deprecated in LangChain 0.2.2 and will be removed in 0.3.0. An updated version of the class exists in the langchain-huggingface package and should be used instead. To use it run `pip install -U langchain-huggingface` and import as `from langchain_huggingface import HuggingFaceEmbeddings`.\n",
      "  warn_deprecated(\n"
     ]
    }
   ],
   "source": [
    "embedding = download_embedding()"
   ]
  },
  {
   "cell_type": "code",
   "execution_count": 11,
   "metadata": {},
   "outputs": [],
   "source": [
    "#intializing pinecone\n",
    "os.environ['PINECONE_API_KEY'] = PINECONE_API_KEY\n",
    "index = 'envirochatbot'\n",
    "docsearch = PineconeVectorStore.from_texts([t.page_content for t in text_chunk], embedding=embedding, index_name = index)"
   ]
  },
  {
   "cell_type": "code",
   "execution_count": 12,
   "metadata": {},
   "outputs": [],
   "source": [
    "prompt_template=\"\"\"\n",
    "Use the following pieces of information to answer the user's question.\n",
    "If you don't know the answer, just say that you don't know, don't try to make up an answer.\n",
    "\n",
    "Context: {context}\n",
    "Question: {question}\n",
    "\n",
    "Only return the helpful answer below and nothing else.\n",
    "Helpful answer:\n",
    "\"\"\"\n",
    "PROMPT=PromptTemplate(template=prompt_template, input_variables=[\"context\", \"question\"])\n",
    "chain_type_kwargs={\"prompt\": PROMPT}"
   ]
  },
  {
   "cell_type": "code",
   "execution_count": 34,
   "metadata": {},
   "outputs": [],
   "source": [
    "llm=CTransformers(model=\"Model/llama-2-7b-chat.ggmlv3.q8_0.bin\",\n",
    "                  model_type=\"llama\",\n",
    "                  config={'max_new_tokens':512,\n",
    "                          'temperature':0.8},device = 'gpu')"
   ]
  },
  {
   "cell_type": "code",
   "execution_count": 35,
   "metadata": {},
   "outputs": [],
   "source": [
    "qa=RetrievalQA.from_chain_type(\n",
    "    llm=llm, \n",
    "    chain_type=\"stuff\", \n",
    "    retriever=docsearch.as_retriever(search_kwargs={'k': 2}),\n",
    "    return_source_documents=True, \n",
    "    chain_type_kwargs=chain_type_kwargs)"
   ]
  },
  {
   "cell_type": "code",
   "execution_count": 36,
   "metadata": {},
   "outputs": [
    {
     "name": "stdout",
     "output_type": "stream",
     "text": [
      "Response :  For fruits, the following tests are typically performed:\n",
      "Total Ash: This test is performed to determine the amount of ash present in the fruit pulp or puree.\n",
      "Fruit Bar/ Toffee: This test is used to check if the fruit bar or toffee has been produced as per the specified standards.\n",
      "Fruit Cereal cereal cereal cereal Flakes and Other products (Cerealysis/Pulp/ Cereal Cereal cereal cereal Bar/ Veget /Cerealimentals and vegetables: This test for cereals Bar/ Vina & Cereal Cereal Cereal Cereal Cereal cereal cereal cerealysis: This test: This test cereal cere and cere and cere/ cere/Cereal Cereal Cereal Cereal Cereal Cereal cereal Flakesh cereal Cereal Cereal Cereal Cereal Cereal cereal cereals/ Concentrate: This test cereal Cereal Cereal cerealysis/ Cereal Cereal Cerealised Flakes (Cereal Cereinanagerates Concentrex cereal cereal cereal and other products including puree cereal Cereal Cerealysis: This test cerealdeh Cereal Cereal/Pulp or Pulp / cerealyzmealge-Cereal Cerealdeh cerealinealcereal Flakes and Other Products cereal Cereal Cereal Cereal Cereal Cereal Cereal Cereal Cereal Cereal Cereal Cereal Cerealysm cerealised: Cereal cereal cereal Cereal Cereal cerealysis/ Cereal Cereal Cerealysis/ Pulp/ Cereal cereals or Cerees and Veget: This test cereal cereal Cereal Cereal Cereal Cereal Cereal Cereal Cereal Cere and vegetables - Pulp/ Cereal cereal cereal: Pulp /Cereal cerealysis: Cereal cereal\n"
     ]
    }
   ],
   "source": [
    "user_input=input(f\"Input Prompt:\")\n",
    "result=qa({\"query\": user_input})\n",
    "print(\"query : \", result[\"query\"])\n",
    "print(\"\\nResponse : \", result[\"result\"])\n",
    "print(\"\\nsource_documents : \", result[\"source_documents\"])"
   ]
  },
  {
   "cell_type": "code",
   "execution_count": 37,
   "metadata": {},
   "outputs": [
    {
     "data": {
      "text/plain": [
       "{'query': 'test performed for fruits',\n",
       " 'result': 'For fruits, the following tests are typically performed:\\nTotal Ash: This test is performed to determine the amount of ash present in the fruit pulp or puree.\\nFruit Bar/ Toffee: This test is used to check if the fruit bar or toffee has been produced as per the specified standards.\\nFruit Cereal cereal cereal cereal Flakes and Other products (Cerealysis/Pulp/ Cereal Cereal cereal cereal Bar/ Veget /Cerealimentals and vegetables: This test for cereals Bar/ Vina & Cereal Cereal Cereal Cereal Cereal cereal cereal cerealysis: This test: This test cereal cere and cere and cere/ cere/Cereal Cereal Cereal Cereal Cereal Cereal cereal Flakesh cereal Cereal Cereal Cereal Cereal Cereal cereal cereals/ Concentrate: This test cereal Cereal Cereal cerealysis/ Cereal Cereal Cerealised Flakes (Cereal Cereinanagerates Concentrex cereal cereal cereal and other products including puree cereal Cereal Cerealysis: This test cerealdeh Cereal Cereal/Pulp or Pulp / cerealyzmealge-Cereal Cerealdeh cerealinealcereal Flakes and Other Products cereal Cereal Cereal Cereal Cereal Cereal Cereal Cereal Cereal Cereal Cereal Cereal Cerealysm cerealised: Cereal cereal cereal Cereal Cereal cerealysis/ Cereal Cereal Cerealysis/ Pulp/ Cereal cereals or Cerees and Veget: This test cereal cereal Cereal Cereal Cereal Cereal Cereal Cereal Cereal Cere and vegetables - Pulp/ Cereal cereal cereal: Pulp /Cereal cerealysis: Cereal cereal',\n",
       " 'source_documents': [Document(page_content='characteristic tested /\\nSpeciﬁc Test Performed /\\nTests or type of tests\\nperformedTest Method Speciﬁcation\\nagainst which tests are\\nperformed and / or the\\ntechniques / equipment\\nused\\n6281CHEMICAL- FOOD &\\nAGRICULTURAL\\nPRODUCTSCumin SeedsBroken fruits (Damaged,\\nshrivelled, discoloured and\\nimmature seed)EL/SOP/565, Issue No. 02, Dec\\n6282CHEMICAL- FOOD &\\nAGRICULTURAL\\nPRODUCTSCumin SeedsProportion of edible seeds\\nother than cumin seedsEL/SOP/565, Issue No. 02, Dec\\n6283CHEMICAL- FOOD &\\nAGRICULTURAL'),\n",
       "  Document(page_content='characteristic tested /\\nSpeciﬁc Test Performed /\\nTests or type of tests\\nperformedTest Method Speciﬁcation\\nagainst which tests are\\nperformed and / or the\\ntechniques / equipment\\nused\\n6872CHEMICAL- FOOD &\\nAGRICULTURAL\\nPRODUCTSFruit Pulp/ Puree/ Concentrate,Fruit Bar/ Toﬀee, Fruit cereal\\nﬂakes,Dehydrated Fruits and Other fruit productsTotal AshFSSAI Manual of Fruits and\\nVegetables Products, Method\\nNo.11.3\\n6873CHEMICAL- FOOD &\\nAGRICULTURAL')]}"
      ]
     },
     "execution_count": 37,
     "metadata": {},
     "output_type": "execute_result"
    }
   ],
   "source": [
    "result"
   ]
  },
  {
   "cell_type": "code",
   "execution_count": 38,
   "metadata": {},
   "outputs": [
    {
     "name": "stdout",
     "output_type": "stream",
     "text": [
      "query :  test performed for fruits\n",
      "\n",
      "Response :  For fruits, the following tests are typically performed:\n",
      "Total Ash: This test is performed to determine the amount of ash present in the fruit pulp or puree.\n",
      "Fruit Bar/ Toffee: This test is used to check if the fruit bar or toffee has been produced as per the specified standards.\n",
      "Fruit Cereal cereal cereal cereal Flakes and Other products (Cerealysis/Pulp/ Cereal Cereal cereal cereal Bar/ Veget /Cerealimentals and vegetables: This test for cereals Bar/ Vina & Cereal Cereal Cereal Cereal Cereal cereal cereal cerealysis: This test: This test cereal cere and cere and cere/ cere/Cereal Cereal Cereal Cereal Cereal Cereal cereal Flakesh cereal Cereal Cereal Cereal Cereal Cereal cereal cereals/ Concentrate: This test cereal Cereal Cereal cerealysis/ Cereal Cereal Cerealised Flakes (Cereal Cereinanagerates Concentrex cereal cereal cereal and other products including puree cereal Cereal Cerealysis: This test cerealdeh Cereal Cereal/Pulp or Pulp / cerealyzmealge-Cereal Cerealdeh cerealinealcereal Flakes and Other Products cereal Cereal Cereal Cereal Cereal Cereal Cereal Cereal Cereal Cereal Cereal Cereal Cerealysm cerealised: Cereal cereal cereal Cereal Cereal cerealysis/ Cereal Cereal Cerealysis/ Pulp/ Cereal cereals or Cerees and Veget: This test cereal cereal Cereal Cereal Cereal Cereal Cereal Cereal Cereal Cere and vegetables - Pulp/ Cereal cereal cereal: Pulp /Cereal cerealysis: Cereal cereal\n",
      "\n",
      "source_documents :  [Document(page_content='characteristic tested /\\nSpeciﬁc Test Performed /\\nTests or type of tests\\nperformedTest Method Speciﬁcation\\nagainst which tests are\\nperformed and / or the\\ntechniques / equipment\\nused\\n6281CHEMICAL- FOOD &\\nAGRICULTURAL\\nPRODUCTSCumin SeedsBroken fruits (Damaged,\\nshrivelled, discoloured and\\nimmature seed)EL/SOP/565, Issue No. 02, Dec\\n6282CHEMICAL- FOOD &\\nAGRICULTURAL\\nPRODUCTSCumin SeedsProportion of edible seeds\\nother than cumin seedsEL/SOP/565, Issue No. 02, Dec\\n6283CHEMICAL- FOOD &\\nAGRICULTURAL'), Document(page_content='characteristic tested /\\nSpeciﬁc Test Performed /\\nTests or type of tests\\nperformedTest Method Speciﬁcation\\nagainst which tests are\\nperformed and / or the\\ntechniques / equipment\\nused\\n6872CHEMICAL- FOOD &\\nAGRICULTURAL\\nPRODUCTSFruit Pulp/ Puree/ Concentrate,Fruit Bar/ Toﬀee, Fruit cereal\\nﬂakes,Dehydrated Fruits and Other fruit productsTotal AshFSSAI Manual of Fruits and\\nVegetables Products, Method\\nNo.11.3\\n6873CHEMICAL- FOOD &\\nAGRICULTURAL')]\n"
     ]
    }
   ],
   "source": [
    "print(\"query : \", result[\"query\"])\n",
    "print(\"\\nResponse : \", result[\"result\"])\n",
    "print(\"\\nsource_documents : \", result[\"source_documents\"])"
   ]
  },
  {
   "cell_type": "code",
   "execution_count": null,
   "metadata": {},
   "outputs": [],
   "source": []
  }
 ],
 "metadata": {
  "kernelspec": {
   "display_name": "envirocare",
   "language": "python",
   "name": "python3"
  },
  "language_info": {
   "codemirror_mode": {
    "name": "ipython",
    "version": 3
   },
   "file_extension": ".py",
   "mimetype": "text/x-python",
   "name": "python",
   "nbconvert_exporter": "python",
   "pygments_lexer": "ipython3",
   "version": "3.8.19"
  }
 },
 "nbformat": 4,
 "nbformat_minor": 2
}
